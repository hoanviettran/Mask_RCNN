{
 "cells": [
  {
   "cell_type": "code",
   "execution_count": 5,
   "metadata": {},
   "outputs": [],
   "source": [
    "import json"
   ]
  },
  {
   "cell_type": "code",
   "execution_count": 3,
   "metadata": {},
   "outputs": [],
   "source": [
    "path = '/home/hoanviettran/3/0a4aa21b-6ed1-405b-8252-78eaee696425.json'\n",
    "f = open(path, 'r')\n",
    "a = json.load(f)"
   ]
  },
  {
   "cell_type": "code",
   "execution_count": 11,
   "metadata": {},
   "outputs": [],
   "source": [
    "pointx = []\n",
    "pointy = []\n",
    "for point in a['shapes'][0]['points']:\n",
    "    pointx.append(point[0])\n",
    "    pointy.append(point[1])"
   ]
  },
  {
   "cell_type": "code",
   "execution_count": 12,
   "metadata": {},
   "outputs": [
    {
     "data": {
      "text/plain": [
       "[697, 3991, 4094, 585]"
      ]
     },
     "execution_count": 12,
     "metadata": {},
     "output_type": "execute_result"
    }
   ],
   "source": [
    "pointx"
   ]
  },
  {
   "cell_type": "code",
   "execution_count": null,
   "metadata": {},
   "outputs": [],
   "source": [
    "'filename': '28503151_5b5b7ec140_b.jpg',\n",
    "'regions': {\n",
    "  '0': {\n",
    "      'region_attributes': {},\n",
    "      'shape_attributes': {\n",
    "          'all_points_x': [...],\n",
    "          'all_points_y': [...],\n",
    "          'name': 'polygon'}},"
   ]
  },
  {
   "cell_type": "code",
   "execution_count": 2,
   "metadata": {},
   "outputs": [],
   "source": [
    "from os import listdir\n",
    "from os.path import isfile, join\n",
    "import os\n",
    "from tqdm import tqdm"
   ]
  },
  {
   "cell_type": "code",
   "execution_count": 3,
   "metadata": {},
   "outputs": [],
   "source": [
    "mypath = '/home/hoanviettran/cmnd-cancuoc/train'\n",
    "files = [f for f in listdir(mypath) if isfile(join(mypath, f))]"
   ]
  },
  {
   "cell_type": "code",
   "execution_count": 6,
   "metadata": {},
   "outputs": [
    {
     "name": "stderr",
     "output_type": "stream",
     "text": [
      "100%|██████████| 1747/1747 [00:03<00:00, 478.23it/s]\n"
     ]
    }
   ],
   "source": [
    "cmnd_data = {}\n",
    "for file in tqdm(files):\n",
    "    name = file.split('.')\n",
    "    if(name[-1] != 'json'):\n",
    "        if((''.join(name[:-1]) + '.json') in files):\n",
    "            img_name = os.path.join(mypath, file)\n",
    "            json_path = os.path.join(mypath, ''.join(name[:-1])+'.json')\n",
    "            f = open(json_path, 'r')\n",
    "            body = json.load(f)\n",
    "            pointx = []\n",
    "            pointy = []\n",
    "            for point in body['shapes'][0]['points']:\n",
    "                pointx.append(point[0])\n",
    "                pointy.append(point[1])\n",
    "            data = {}\n",
    "            data['filename'] = file\n",
    "            data['shape_attributes'] = {}\n",
    "            data['shape_attributes']['all_points_x'] = pointx\n",
    "            data['shape_attributes']['all_points_y'] = pointy\n",
    "            cmnd_data[file] = data\n",
    "with open(mypath + 'region_data.json', 'w') as outfile:\n",
    "    json.dump(cmnd_data, outfile)"
   ]
  },
  {
   "cell_type": "code",
   "execution_count": 46,
   "metadata": {},
   "outputs": [],
   "source": [
    "annotations = list(cmnd_data.values())"
   ]
  },
  {
   "cell_type": "code",
   "execution_count": 48,
   "metadata": {},
   "outputs": [
    {
     "data": {
      "text/plain": [
       "list"
      ]
     },
     "execution_count": 48,
     "metadata": {},
     "output_type": "execute_result"
    }
   ],
   "source": [
    "type(annotations)"
   ]
  },
  {
   "cell_type": "code",
   "execution_count": 27,
   "metadata": {},
   "outputs": [
    {
     "data": {
      "text/plain": [
       "'id1_25734836'"
      ]
     },
     "execution_count": 27,
     "metadata": {},
     "output_type": "execute_result"
    }
   ],
   "source": [
    "''.join(name[:-1])"
   ]
  },
  {
   "cell_type": "code",
   "execution_count": 25,
   "metadata": {},
   "outputs": [
    {
     "data": {
      "text/plain": [
       "'id1_25734836.jpg'"
      ]
     },
     "execution_count": 25,
     "metadata": {},
     "output_type": "execute_result"
    }
   ],
   "source": [
    "file"
   ]
  },
  {
   "cell_type": "code",
   "execution_count": null,
   "metadata": {},
   "outputs": [],
   "source": []
  }
 ],
 "metadata": {
  "kernelspec": {
   "display_name": "Python 3",
   "language": "python",
   "name": "python3"
  },
  "language_info": {
   "codemirror_mode": {
    "name": "ipython",
    "version": 3
   },
   "file_extension": ".py",
   "mimetype": "text/x-python",
   "name": "python",
   "nbconvert_exporter": "python",
   "pygments_lexer": "ipython3",
   "version": "3.5.2"
  }
 },
 "nbformat": 4,
 "nbformat_minor": 2
}
