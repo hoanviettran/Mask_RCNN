{
 "cells": [
  {
   "cell_type": "code",
   "execution_count": 1,
   "metadata": {},
   "outputs": [],
   "source": [
    "import json"
   ]
  },
  {
   "cell_type": "code",
   "execution_count": 3,
   "metadata": {},
   "outputs": [],
   "source": [
    "path = '/home/hoanviettran/3/0a4aa21b-6ed1-405b-8252-78eaee696425.json'\n",
    "f = open(path, 'r')\n",
    "a = json.load(f)"
   ]
  },
  {
   "cell_type": "code",
   "execution_count": 11,
   "metadata": {},
   "outputs": [],
   "source": [
    "pointx = []\n",
    "pointy = []\n",
    "for point in a['shapes'][0]['points']:\n",
    "    pointx.append(point[0])\n",
    "    pointy.append(point[1])"
   ]
  },
  {
   "cell_type": "code",
   "execution_count": 12,
   "metadata": {},
   "outputs": [
    {
     "data": {
      "text/plain": [
       "[697, 3991, 4094, 585]"
      ]
     },
     "execution_count": 12,
     "metadata": {},
     "output_type": "execute_result"
    }
   ],
   "source": [
    "pointx"
   ]
  },
  {
   "cell_type": "code",
   "execution_count": null,
   "metadata": {},
   "outputs": [],
   "source": [
    "'filename': '28503151_5b5b7ec140_b.jpg',\n",
    "'regions': {\n",
    "  '0': {\n",
    "      'region_attributes': {},\n",
    "      'shape_attributes': {\n",
    "          'all_points_x': [...],\n",
    "          'all_points_y': [...],\n",
    "          'name': 'polygon'}},"
   ]
  },
  {
   "cell_type": "code",
   "execution_count": 2,
   "metadata": {},
   "outputs": [],
   "source": [
    "from os import listdir\n",
    "from os.path import isfile, join, isdir\n",
    "import os\n",
    "from tqdm import tqdm"
   ]
  },
  {
   "cell_type": "code",
   "execution_count": 6,
   "metadata": {},
   "outputs": [
    {
     "name": "stderr",
     "output_type": "stream",
     "text": [
      "100%|██████████| 1929/1929 [00:53<00:00, 36.14it/s]\n",
      "100%|██████████| 589/589 [00:12<00:00, 45.63it/s]\n",
      "100%|██████████| 1955/1955 [00:44<00:00, 43.82it/s]\n",
      "100%|██████████| 1847/1847 [00:42<00:00, 43.33it/s]\n",
      "100%|██████████| 911/911 [00:18<00:00, 48.74it/s]\n",
      "100%|██████████| 1168/1168 [00:25<00:00, 46.09it/s]\n",
      "100%|██████████| 1180/1180 [00:27<00:00, 43.56it/s]\n",
      "100%|██████████| 1157/1157 [00:29<00:00, 38.87it/s]\n",
      "100%|██████████| 557/557 [00:15<00:00, 36.45it/s]\n",
      "100%|██████████| 1161/1161 [00:30<00:00, 37.47it/s]\n"
     ]
    }
   ],
   "source": [
    "mypath = '/media/hoanviettran/Cuongnq8/CMND/crop-data'\n",
    "savepath = '/media/hoanviettran/Cuongnq8/CMND/train'\n",
    "foders = [f for f in listdir(mypath) if isdir(join(mypath, f))]\n",
    "for foder in foders:\n",
    "    foder_path = os.path.join(mypath, foder)\n",
    "    files = [f for f in listdir(foder_path) if isfile(join(foder_path, f))]\n",
    "    for file in tqdm(files):\n",
    "        name = file.split('.')\n",
    "        if(name[-1] == 'json'):\n",
    "            json_name = os.path.join(foder_path, file)\n",
    "            os.system('cp ' + json_name + ' ' + savepath)\n",
    "            #if((''.join(name[:-1]) + '.json') in files):\n",
    "             #   img_name = os.path.join(foder_path, file)\n",
    "              #  os.system('cp ' + img_name + ' ' + savepath)"
   ]
  },
  {
   "cell_type": "code",
   "execution_count": 12,
   "metadata": {},
   "outputs": [],
   "source": [
    "files = [f for f in listdir(savepath) if isfile(join(savepath, f))]"
   ]
  },
  {
   "cell_type": "code",
   "execution_count": 10,
   "metadata": {},
   "outputs": [],
   "source": [
    "savepath = '/media/hoanviettran/Cuongnq8/CMND/val'"
   ]
  },
  {
   "cell_type": "code",
   "execution_count": 13,
   "metadata": {},
   "outputs": [
    {
     "name": "stderr",
     "output_type": "stream",
     "text": [
      "100%|██████████| 1177/1177 [00:13<00:00, 84.76it/s]\n"
     ]
    }
   ],
   "source": [
    "cmnd_data = {}\n",
    "for file in tqdm(files):\n",
    "    name = file.split('.')\n",
    "    if(name[-1] != 'json'):\n",
    "        if((''.join(name[:-1]) + '.json') in files):\n",
    "            img_name = os.path.join(savepath, file)\n",
    "            json_path = os.path.join(savepath, ''.join(name[:-1])+'.json')\n",
    "            f = open(json_path, 'r')\n",
    "            body = json.load(f)\n",
    "            pointx = []\n",
    "            pointy = []\n",
    "            for point in body['shapes'][0]['points']:\n",
    "                pointx.append(point[0])\n",
    "                pointy.append(point[1])\n",
    "            data = {}\n",
    "            data['filename'] = file\n",
    "            data['shape_attributes'] = {}\n",
    "            data['shape_attributes']['all_points_x'] = pointx\n",
    "            data['shape_attributes']['all_points_y'] = pointy\n",
    "            cmnd_data[file] = data\n",
    "with open(savepath + 'region_data.json', 'w') as outfile:\n",
    "    json.dump(cmnd_data, outfile)"
   ]
  },
  {
   "cell_type": "code",
   "execution_count": 46,
   "metadata": {},
   "outputs": [],
   "source": [
    "annotations = list(cmnd_data.values())"
   ]
  },
  {
   "cell_type": "code",
   "execution_count": 48,
   "metadata": {},
   "outputs": [
    {
     "data": {
      "text/plain": [
       "list"
      ]
     },
     "execution_count": 48,
     "metadata": {},
     "output_type": "execute_result"
    }
   ],
   "source": [
    "type(annotations)"
   ]
  },
  {
   "cell_type": "code",
   "execution_count": 27,
   "metadata": {},
   "outputs": [
    {
     "data": {
      "text/plain": [
       "'id1_25734836'"
      ]
     },
     "execution_count": 27,
     "metadata": {},
     "output_type": "execute_result"
    }
   ],
   "source": [
    "''.join(name[:-1])"
   ]
  },
  {
   "cell_type": "code",
   "execution_count": 25,
   "metadata": {},
   "outputs": [
    {
     "data": {
      "text/plain": [
       "'id1_25734836.jpg'"
      ]
     },
     "execution_count": 25,
     "metadata": {},
     "output_type": "execute_result"
    }
   ],
   "source": [
    "file"
   ]
  },
  {
   "cell_type": "code",
   "execution_count": null,
   "metadata": {},
   "outputs": [],
   "source": []
  }
 ],
 "metadata": {
  "kernelspec": {
   "display_name": "Python 3",
   "language": "python",
   "name": "python3"
  },
  "language_info": {
   "codemirror_mode": {
    "name": "ipython",
    "version": 3
   },
   "file_extension": ".py",
   "mimetype": "text/x-python",
   "name": "python",
   "nbconvert_exporter": "python",
   "pygments_lexer": "ipython3",
   "version": "3.5.2"
  }
 },
 "nbformat": 4,
 "nbformat_minor": 2
}
